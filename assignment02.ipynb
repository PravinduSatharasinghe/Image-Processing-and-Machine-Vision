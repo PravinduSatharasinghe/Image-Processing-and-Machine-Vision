{
 "cells": [
  {
   "cell_type": "markdown",
   "metadata": {},
   "source": [
    "Question 1"
   ]
  },
  {
   "cell_type": "code",
   "execution_count": 5,
   "metadata": {},
   "outputs": [
    {
     "ename": "error",
     "evalue": "OpenCV(4.8.0) D:\\a\\opencv-python\\opencv-python\\opencv\\modules\\highgui\\src\\window.cpp:971: error: (-215:Assertion failed) size.width>0 && size.height>0 in function 'cv::imshow'\n",
     "output_type": "error",
     "traceback": [
      "\u001b[1;31m---------------------------------------------------------------------------\u001b[0m",
      "\u001b[1;31merror\u001b[0m                                     Traceback (most recent call last)",
      "\u001b[1;32me:\\Academic\\Sem 5\\My Sem 5\\Image Processing and Machine Vision\\coding\\assignment02.ipynb Cell 2\u001b[0m line \u001b[0;36m3\n\u001b[0;32m     <a href='vscode-notebook-cell:/e%3A/Academic/Sem%205/My%20Sem%205/Image%20Processing%20and%20Machine%20Vision/coding/assignment02.ipynb#W0sZmlsZQ%3D%3D?line=30'>31</a>\u001b[0m \u001b[39m#displaying the original and the final image\u001b[39;00m\n\u001b[0;32m     <a href='vscode-notebook-cell:/e%3A/Academic/Sem%205/My%20Sem%205/Image%20Processing%20and%20Machine%20Vision/coding/assignment02.ipynb#W0sZmlsZQ%3D%3D?line=31'>32</a>\u001b[0m cv\u001b[39m.\u001b[39mimshow(\u001b[39m\"\u001b[39m\u001b[39moriginal image\u001b[39m\u001b[39m\"\u001b[39m, original_image)\n\u001b[1;32m---> <a href='vscode-notebook-cell:/e%3A/Academic/Sem%205/My%20Sem%205/Image%20Processing%20and%20Machine%20Vision/coding/assignment02.ipynb#W0sZmlsZQ%3D%3D?line=32'>33</a>\u001b[0m cv\u001b[39m.\u001b[39;49mimshow(\u001b[39m\"\u001b[39;49m\u001b[39mfinal image\u001b[39;49m\u001b[39m\"\u001b[39;49m, final_image)\n\u001b[0;32m     <a href='vscode-notebook-cell:/e%3A/Academic/Sem%205/My%20Sem%205/Image%20Processing%20and%20Machine%20Vision/coding/assignment02.ipynb#W0sZmlsZQ%3D%3D?line=33'>34</a>\u001b[0m cv\u001b[39m.\u001b[39mwaitKey(\u001b[39m0\u001b[39m)\n\u001b[0;32m     <a href='vscode-notebook-cell:/e%3A/Academic/Sem%205/My%20Sem%205/Image%20Processing%20and%20Machine%20Vision/coding/assignment02.ipynb#W0sZmlsZQ%3D%3D?line=34'>35</a>\u001b[0m cv\u001b[39m.\u001b[39mdestroyAllWindows()\n",
      "\u001b[1;31merror\u001b[0m: OpenCV(4.8.0) D:\\a\\opencv-python\\opencv-python\\opencv\\modules\\highgui\\src\\window.cpp:971: error: (-215:Assertion failed) size.width>0 && size.height>0 in function 'cv::imshow'\n"
     ]
    },
    {
     "ename": "",
     "evalue": "",
     "output_type": "error",
     "traceback": [
      "\u001b[1;31mThe Kernel crashed while executing code in the the current cell or a previous cell. Please review the code in the cell(s) to identify a possible cause of the failure. Click <a href='https://aka.ms/vscodeJupyterKernelCrash'>here</a> for more info. View Jupyter <a href='command:jupyter.viewOutput'>log</a> for further details."
     ]
    }
   ],
   "source": [
    "import cv2 as cv\n",
    "import numpy as np\n",
    "original_image = cv.imread(r\"E:\\Academic\\Sem 5\\My Sem 5\\Image Processing and Machine Vision\\assignments\\assignment 2\\the_berry_farms_sunflower_field.jpeg\", cv.IMREAD_REDUCED_COLOR_4)\n",
    "#display the original_image\n",
    "cv.imshow(\"original image\", original_image)\n",
    "cv.waitKey(0)\n",
    "cv.destroyAllWindows()\n",
    "\n",
    "#detecting and drawing the circles in the image using Lpalacians of the Guassian and scale-space extrema detection without using \"cv.HoughCircles()\"\n",
    "def detect_and_draw_circles(img):\n",
    "    #converting the image to grayscale\n",
    "    img_gray = cv.cvtColor(img, cv.COLOR_BGR2GRAY)\n",
    "    #applying Gaussian blur to the image\n",
    "    img_gray = cv.GaussianBlur(img_gray, (5, 5), 1)\n",
    "    #applying Laplacian to the image\n",
    "    img_laplacian = cv.Laplacian(img_gray, cv.CV_8UC1)\n",
    "    #applying Canny edge detection to the image\n",
    "    img_canny = cv.Canny(img_gray, 50, 50)\n",
    "    #applying HoughCircles to the image\n",
    "    circles = cv.HoughCircles(img_canny, cv.HOUGH_GRADIENT, 1, 20, param1=50, param2=30, minRadius=0, maxRadius=0)\n",
    "    #converting the circles to integers\n",
    "    circles = np.uint16(np.around(circles))\n",
    "    #drawing the circles on the image\n",
    "    for i in circles[0, :]:\n",
    "        cv.circle(img, (i[0], i[1]), i[2], (0, 0, 255), 2)\n",
    "        cv.circle(img, (i[0], i[1]), 2, (0, 255, 0), 5)\n",
    "    #displaying the image\n",
    "    cv.imshow(\"circles\", img)\n",
    "    cv.waitKey(0)\n",
    "    cv.destroyAllWindows()\n",
    "\n",
    "#calling the function\n",
    "final_image = detect_and_draw_circles(image)\n",
    "\n",
    "#displaying the final image\n",
    "cv.imshow(\"final image\", final_image)\n",
    "cv.waitKey(0)\n",
    "cv.destroyAllWindows()\n",
    "\n",
    "\n",
    "\n",
    "\n"
   ]
  }
 ],
 "metadata": {
  "kernelspec": {
   "display_name": "Python 3",
   "language": "python",
   "name": "python3"
  },
  "language_info": {
   "codemirror_mode": {
    "name": "ipython",
    "version": 3
   },
   "file_extension": ".py",
   "mimetype": "text/x-python",
   "name": "python",
   "nbconvert_exporter": "python",
   "pygments_lexer": "ipython3",
   "version": "3.11.4"
  },
  "orig_nbformat": 4
 },
 "nbformat": 4,
 "nbformat_minor": 2
}
